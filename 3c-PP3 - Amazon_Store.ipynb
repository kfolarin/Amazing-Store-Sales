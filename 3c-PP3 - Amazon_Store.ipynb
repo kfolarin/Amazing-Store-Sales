{
 "cells": [
  {
   "cell_type": "markdown",
   "id": "dc1765d9-a426-41b2-a248-821d47eaa5c6",
   "metadata": {},
   "source": [
    "# Project Portfolio Data Analysis Based on Amazon Store Dataset"
   ]
  },
  {
   "cell_type": "markdown",
   "id": "f8f9b9ed-36fe-43a7-b849-f3f7bc8af8cd",
   "metadata": {},
   "source": [
    "<img src = 'Shirts.jpg' Style = 'width:75;height:150'>"
   ]
  },
  {
   "cell_type": "code",
   "execution_count": 2,
   "id": "3ad16e78-39e2-42c0-ad95-563903e90f34",
   "metadata": {},
   "outputs": [],
   "source": [
    "import pandas as pd\n",
    "import seaborn as sns\n",
    "import matplotlib.pyplot as plt\n",
    "import numpy as np"
   ]
  },
  {
   "cell_type": "code",
   "execution_count": 3,
   "id": "f1bcd3c6-434d-4564-abf8-23e5f74212be",
   "metadata": {},
   "outputs": [],
   "source": [
    "df = pd.read_csv('Amazon Sale Report.csv', encoding = 'unicode_escape')"
   ]
  },
  {
   "cell_type": "markdown",
   "id": "00ef873d-fd62-4325-b85f-9096bae0ddf4",
   "metadata": {},
   "source": [
    "### Data Cleaning and Exploratory Data Analysis"
   ]
  },
  {
   "cell_type": "code",
   "execution_count": 4,
   "id": "39dced4c-f3e0-4b3b-800d-9ee1288bd6fd",
   "metadata": {},
   "outputs": [
    {
     "data": {
      "text/html": [
       "<div>\n",
       "<style scoped>\n",
       "    .dataframe tbody tr th:only-of-type {\n",
       "        vertical-align: middle;\n",
       "    }\n",
       "\n",
       "    .dataframe tbody tr th {\n",
       "        vertical-align: top;\n",
       "    }\n",
       "\n",
       "    .dataframe thead th {\n",
       "        text-align: right;\n",
       "    }\n",
       "</style>\n",
       "<table border=\"1\" class=\"dataframe\">\n",
       "  <thead>\n",
       "    <tr style=\"text-align: right;\">\n",
       "      <th></th>\n",
       "      <th>index</th>\n",
       "      <th>Order ID</th>\n",
       "      <th>Date</th>\n",
       "      <th>Status</th>\n",
       "      <th>Fulfilment</th>\n",
       "      <th>Sales Channel</th>\n",
       "      <th>ship-service-level</th>\n",
       "      <th>Category</th>\n",
       "      <th>Size</th>\n",
       "      <th>Courier Status</th>\n",
       "      <th>...</th>\n",
       "      <th>currency</th>\n",
       "      <th>Amount</th>\n",
       "      <th>ship-city</th>\n",
       "      <th>ship-state</th>\n",
       "      <th>ship-postal-code</th>\n",
       "      <th>ship-country</th>\n",
       "      <th>B2B</th>\n",
       "      <th>fulfilled-by</th>\n",
       "      <th>New</th>\n",
       "      <th>PendingS</th>\n",
       "    </tr>\n",
       "  </thead>\n",
       "  <tbody>\n",
       "    <tr>\n",
       "      <th>0</th>\n",
       "      <td>0</td>\n",
       "      <td>405-8078784-5731545</td>\n",
       "      <td>04-30-22</td>\n",
       "      <td>Cancelled</td>\n",
       "      <td>Merchant</td>\n",
       "      <td>Amazon.in</td>\n",
       "      <td>Standard</td>\n",
       "      <td>T-shirt</td>\n",
       "      <td>S</td>\n",
       "      <td>On the Way</td>\n",
       "      <td>...</td>\n",
       "      <td>INR</td>\n",
       "      <td>647.62</td>\n",
       "      <td>MUMBAI</td>\n",
       "      <td>MAHARASHTRA</td>\n",
       "      <td>400081.0</td>\n",
       "      <td>IN</td>\n",
       "      <td>False</td>\n",
       "      <td>Easy Ship</td>\n",
       "      <td>NaN</td>\n",
       "      <td>NaN</td>\n",
       "    </tr>\n",
       "  </tbody>\n",
       "</table>\n",
       "<p>1 rows × 21 columns</p>\n",
       "</div>"
      ],
      "text/plain": [
       "   index             Order ID      Date     Status Fulfilment Sales Channel  \\\n",
       "0      0  405-8078784-5731545  04-30-22  Cancelled   Merchant     Amazon.in   \n",
       "\n",
       "  ship-service-level Category Size Courier Status  ...  currency  Amount  \\\n",
       "0           Standard  T-shirt    S     On the Way  ...       INR  647.62   \n",
       "\n",
       "   ship-city   ship-state ship-postal-code  ship-country    B2B  fulfilled-by  \\\n",
       "0     MUMBAI  MAHARASHTRA         400081.0            IN  False     Easy Ship   \n",
       "\n",
       "  New  PendingS  \n",
       "0 NaN       NaN  \n",
       "\n",
       "[1 rows x 21 columns]"
      ]
     },
     "execution_count": 4,
     "metadata": {},
     "output_type": "execute_result"
    }
   ],
   "source": [
    "df.head(1)"
   ]
  },
  {
   "cell_type": "code",
   "execution_count": 5,
   "id": "40cc0327-38f9-4c2a-8a9c-9322a9019c7b",
   "metadata": {},
   "outputs": [
    {
     "data": {
      "text/plain": [
       "(128976, 21)"
      ]
     },
     "execution_count": 5,
     "metadata": {},
     "output_type": "execute_result"
    }
   ],
   "source": [
    "df.shape"
   ]
  },
  {
   "cell_type": "code",
   "execution_count": 6,
   "id": "41a06db0-d2bc-41b9-8bbb-c7ef362e471c",
   "metadata": {},
   "outputs": [
    {
     "data": {
      "text/plain": [
       "Index(['index', 'Order ID', 'Date', 'Status', 'Fulfilment', 'Sales Channel',\n",
       "       'ship-service-level', 'Category', 'Size', 'Courier Status', 'Qty',\n",
       "       'currency', 'Amount', 'ship-city', 'ship-state', 'ship-postal-code',\n",
       "       'ship-country', 'B2B', 'fulfilled-by', 'New', 'PendingS'],\n",
       "      dtype='object')"
      ]
     },
     "execution_count": 6,
     "metadata": {},
     "output_type": "execute_result"
    }
   ],
   "source": [
    "df.columns"
   ]
  },
  {
   "cell_type": "code",
   "execution_count": 7,
   "id": "11e7d768-ab7c-4923-b237-91b7a1c3d7e2",
   "metadata": {},
   "outputs": [
    {
     "data": {
      "text/html": [
       "<div>\n",
       "<style scoped>\n",
       "    .dataframe tbody tr th:only-of-type {\n",
       "        vertical-align: middle;\n",
       "    }\n",
       "\n",
       "    .dataframe tbody tr th {\n",
       "        vertical-align: top;\n",
       "    }\n",
       "\n",
       "    .dataframe thead th {\n",
       "        text-align: right;\n",
       "    }\n",
       "</style>\n",
       "<table border=\"1\" class=\"dataframe\">\n",
       "  <thead>\n",
       "    <tr style=\"text-align: right;\">\n",
       "      <th></th>\n",
       "      <th>Order ID</th>\n",
       "      <th>Date</th>\n",
       "      <th>Status</th>\n",
       "      <th>Fulfilment</th>\n",
       "      <th>Sales Channel</th>\n",
       "      <th>ship-service-level</th>\n",
       "      <th>Category</th>\n",
       "      <th>Size</th>\n",
       "      <th>Courier Status</th>\n",
       "      <th>currency</th>\n",
       "      <th>ship-city</th>\n",
       "      <th>ship-state</th>\n",
       "      <th>ship-country</th>\n",
       "      <th>fulfilled-by</th>\n",
       "    </tr>\n",
       "  </thead>\n",
       "  <tbody>\n",
       "    <tr>\n",
       "      <th>count</th>\n",
       "      <td>128976</td>\n",
       "      <td>128976</td>\n",
       "      <td>128976</td>\n",
       "      <td>128976</td>\n",
       "      <td>128976</td>\n",
       "      <td>128976</td>\n",
       "      <td>128976</td>\n",
       "      <td>128976</td>\n",
       "      <td>128976</td>\n",
       "      <td>121176</td>\n",
       "      <td>128941</td>\n",
       "      <td>128941</td>\n",
       "      <td>128941</td>\n",
       "      <td>39263</td>\n",
       "    </tr>\n",
       "    <tr>\n",
       "      <th>unique</th>\n",
       "      <td>120229</td>\n",
       "      <td>91</td>\n",
       "      <td>13</td>\n",
       "      <td>2</td>\n",
       "      <td>2</td>\n",
       "      <td>2</td>\n",
       "      <td>9</td>\n",
       "      <td>11</td>\n",
       "      <td>4</td>\n",
       "      <td>1</td>\n",
       "      <td>8948</td>\n",
       "      <td>69</td>\n",
       "      <td>1</td>\n",
       "      <td>1</td>\n",
       "    </tr>\n",
       "    <tr>\n",
       "      <th>top</th>\n",
       "      <td>403-4984515-8861958</td>\n",
       "      <td>05-03-2022</td>\n",
       "      <td>Shipped</td>\n",
       "      <td>Amazon</td>\n",
       "      <td>Amazon.in</td>\n",
       "      <td>Expedited</td>\n",
       "      <td>T-shirt</td>\n",
       "      <td>M</td>\n",
       "      <td>Shipped</td>\n",
       "      <td>INR</td>\n",
       "      <td>BENGALURU</td>\n",
       "      <td>MAHARASHTRA</td>\n",
       "      <td>IN</td>\n",
       "      <td>Easy Ship</td>\n",
       "    </tr>\n",
       "    <tr>\n",
       "      <th>freq</th>\n",
       "      <td>12</td>\n",
       "      <td>2085</td>\n",
       "      <td>77815</td>\n",
       "      <td>89713</td>\n",
       "      <td>128852</td>\n",
       "      <td>88630</td>\n",
       "      <td>50292</td>\n",
       "      <td>22373</td>\n",
       "      <td>109486</td>\n",
       "      <td>121176</td>\n",
       "      <td>11208</td>\n",
       "      <td>22272</td>\n",
       "      <td>128941</td>\n",
       "      <td>39263</td>\n",
       "    </tr>\n",
       "  </tbody>\n",
       "</table>\n",
       "</div>"
      ],
      "text/plain": [
       "                   Order ID        Date   Status Fulfilment Sales Channel  \\\n",
       "count                128976      128976   128976     128976        128976   \n",
       "unique               120229          91       13          2             2   \n",
       "top     403-4984515-8861958  05-03-2022  Shipped     Amazon     Amazon.in   \n",
       "freq                     12        2085    77815      89713        128852   \n",
       "\n",
       "       ship-service-level Category    Size Courier Status currency  ship-city  \\\n",
       "count              128976   128976  128976         128976   121176     128941   \n",
       "unique                  2        9      11              4        1       8948   \n",
       "top             Expedited  T-shirt       M        Shipped      INR  BENGALURU   \n",
       "freq                88630    50292   22373         109486   121176      11208   \n",
       "\n",
       "         ship-state ship-country fulfilled-by  \n",
       "count        128941       128941        39263  \n",
       "unique           69            1            1  \n",
       "top     MAHARASHTRA           IN    Easy Ship  \n",
       "freq          22272       128941        39263  "
      ]
     },
     "execution_count": 7,
     "metadata": {},
     "output_type": "execute_result"
    }
   ],
   "source": [
    "df.describe(include = 'object')"
   ]
  },
  {
   "cell_type": "code",
   "execution_count": 8,
   "id": "8c852ccf-935f-46e1-9c4c-87c4f5fcdf20",
   "metadata": {},
   "outputs": [
    {
     "name": "stdout",
     "output_type": "stream",
     "text": [
      "<class 'pandas.core.frame.DataFrame'>\n",
      "RangeIndex: 128976 entries, 0 to 128975\n",
      "Data columns (total 21 columns):\n",
      " #   Column              Non-Null Count   Dtype  \n",
      "---  ------              --------------   -----  \n",
      " 0   index               128976 non-null  int64  \n",
      " 1   Order ID            128976 non-null  object \n",
      " 2   Date                128976 non-null  object \n",
      " 3   Status              128976 non-null  object \n",
      " 4   Fulfilment          128976 non-null  object \n",
      " 5   Sales Channel       128976 non-null  object \n",
      " 6   ship-service-level  128976 non-null  object \n",
      " 7   Category            128976 non-null  object \n",
      " 8   Size                128976 non-null  object \n",
      " 9   Courier Status      128976 non-null  object \n",
      " 10  Qty                 128976 non-null  int64  \n",
      " 11  currency            121176 non-null  object \n",
      " 12  Amount              121176 non-null  float64\n",
      " 13  ship-city           128941 non-null  object \n",
      " 14  ship-state          128941 non-null  object \n",
      " 15  ship-postal-code    128941 non-null  float64\n",
      " 16  ship-country        128941 non-null  object \n",
      " 17  B2B                 128976 non-null  bool   \n",
      " 18  fulfilled-by        39263 non-null   object \n",
      " 19  New                 0 non-null       float64\n",
      " 20  PendingS            0 non-null       float64\n",
      "dtypes: bool(1), float64(4), int64(2), object(14)\n",
      "memory usage: 19.8+ MB\n"
     ]
    }
   ],
   "source": [
    "df.info()"
   ]
  },
  {
   "cell_type": "code",
   "execution_count": 9,
   "id": "08d90d53-3b8b-43ae-8d70-7549eb77594e",
   "metadata": {},
   "outputs": [
    {
     "data": {
      "text/plain": [
       "index                      0\n",
       "Order ID                   0\n",
       "Date                       0\n",
       "Status                     0\n",
       "Fulfilment                 0\n",
       "Sales Channel              0\n",
       "ship-service-level         0\n",
       "Category                   0\n",
       "Size                       0\n",
       "Courier Status             0\n",
       "Qty                        0\n",
       "currency                7800\n",
       "Amount                  7800\n",
       "ship-city                 35\n",
       "ship-state                35\n",
       "ship-postal-code          35\n",
       "ship-country              35\n",
       "B2B                        0\n",
       "fulfilled-by           89713\n",
       "New                   128976\n",
       "PendingS              128976\n",
       "dtype: int64"
      ]
     },
     "execution_count": 9,
     "metadata": {},
     "output_type": "execute_result"
    }
   ],
   "source": [
    "df.isnull().sum()"
   ]
  },
  {
   "cell_type": "code",
   "execution_count": 10,
   "id": "2985f441-80a7-44e9-8321-670ff213e08e",
   "metadata": {},
   "outputs": [],
   "source": [
    "df = df.rename(columns = {'currency': 'Currency', 'ship-service-level': 'Ship-service-level', 'ship-city': 'Ship-city', 'ship-state': 'Ship-state', 'ship-postal-code': 'Ship-postal-code', 'ship-country': 'Ship-country', 'fulfilled-by': 'Fulfilled-by'})"
   ]
  },
  {
   "cell_type": "code",
   "execution_count": 11,
   "id": "9a272ea3-bdc3-4d96-818e-bee18eca1b26",
   "metadata": {
    "scrolled": true
   },
   "outputs": [
    {
     "data": {
      "text/html": [
       "<div>\n",
       "<style scoped>\n",
       "    .dataframe tbody tr th:only-of-type {\n",
       "        vertical-align: middle;\n",
       "    }\n",
       "\n",
       "    .dataframe tbody tr th {\n",
       "        vertical-align: top;\n",
       "    }\n",
       "\n",
       "    .dataframe thead th {\n",
       "        text-align: right;\n",
       "    }\n",
       "</style>\n",
       "<table border=\"1\" class=\"dataframe\">\n",
       "  <thead>\n",
       "    <tr style=\"text-align: right;\">\n",
       "      <th></th>\n",
       "      <th>index</th>\n",
       "      <th>Order ID</th>\n",
       "      <th>Date</th>\n",
       "      <th>Status</th>\n",
       "      <th>Fulfilment</th>\n",
       "      <th>Sales Channel</th>\n",
       "      <th>Ship-service-level</th>\n",
       "      <th>Category</th>\n",
       "      <th>Size</th>\n",
       "      <th>Courier Status</th>\n",
       "      <th>...</th>\n",
       "      <th>Currency</th>\n",
       "      <th>Amount</th>\n",
       "      <th>Ship-city</th>\n",
       "      <th>Ship-state</th>\n",
       "      <th>Ship-postal-code</th>\n",
       "      <th>Ship-country</th>\n",
       "      <th>B2B</th>\n",
       "      <th>Fulfilled-by</th>\n",
       "      <th>New</th>\n",
       "      <th>PendingS</th>\n",
       "    </tr>\n",
       "  </thead>\n",
       "  <tbody>\n",
       "    <tr>\n",
       "      <th>0</th>\n",
       "      <td>0</td>\n",
       "      <td>405-8078784-5731545</td>\n",
       "      <td>04-30-22</td>\n",
       "      <td>Cancelled</td>\n",
       "      <td>Merchant</td>\n",
       "      <td>Amazon.in</td>\n",
       "      <td>Standard</td>\n",
       "      <td>T-shirt</td>\n",
       "      <td>S</td>\n",
       "      <td>On the Way</td>\n",
       "      <td>...</td>\n",
       "      <td>INR</td>\n",
       "      <td>647.62</td>\n",
       "      <td>MUMBAI</td>\n",
       "      <td>MAHARASHTRA</td>\n",
       "      <td>400081.0</td>\n",
       "      <td>IN</td>\n",
       "      <td>False</td>\n",
       "      <td>Easy Ship</td>\n",
       "      <td>NaN</td>\n",
       "      <td>NaN</td>\n",
       "    </tr>\n",
       "  </tbody>\n",
       "</table>\n",
       "<p>1 rows × 21 columns</p>\n",
       "</div>"
      ],
      "text/plain": [
       "   index             Order ID      Date     Status Fulfilment Sales Channel  \\\n",
       "0      0  405-8078784-5731545  04-30-22  Cancelled   Merchant     Amazon.in   \n",
       "\n",
       "  Ship-service-level Category Size Courier Status  ...  Currency  Amount  \\\n",
       "0           Standard  T-shirt    S     On the Way  ...       INR  647.62   \n",
       "\n",
       "   Ship-city   Ship-state Ship-postal-code  Ship-country    B2B  Fulfilled-by  \\\n",
       "0     MUMBAI  MAHARASHTRA         400081.0            IN  False     Easy Ship   \n",
       "\n",
       "  New  PendingS  \n",
       "0 NaN       NaN  \n",
       "\n",
       "[1 rows x 21 columns]"
      ]
     },
     "execution_count": 11,
     "metadata": {},
     "output_type": "execute_result"
    }
   ],
   "source": [
    "df.head(1)"
   ]
  },
  {
   "cell_type": "code",
   "execution_count": 12,
   "id": "d53a4e9b-fe0a-445b-969f-b796912c0e05",
   "metadata": {},
   "outputs": [],
   "source": [
    "df.drop(['New', 'PendingS'], axis = 1, inplace = True)"
   ]
  },
  {
   "cell_type": "code",
   "execution_count": 13,
   "id": "40d14ce8-8766-4a5f-afbd-7cf4b42a2824",
   "metadata": {},
   "outputs": [
    {
     "data": {
      "text/html": [
       "<div>\n",
       "<style scoped>\n",
       "    .dataframe tbody tr th:only-of-type {\n",
       "        vertical-align: middle;\n",
       "    }\n",
       "\n",
       "    .dataframe tbody tr th {\n",
       "        vertical-align: top;\n",
       "    }\n",
       "\n",
       "    .dataframe thead th {\n",
       "        text-align: right;\n",
       "    }\n",
       "</style>\n",
       "<table border=\"1\" class=\"dataframe\">\n",
       "  <thead>\n",
       "    <tr style=\"text-align: right;\">\n",
       "      <th></th>\n",
       "      <th>index</th>\n",
       "      <th>Order ID</th>\n",
       "      <th>Date</th>\n",
       "      <th>Status</th>\n",
       "      <th>Fulfilment</th>\n",
       "      <th>Sales Channel</th>\n",
       "      <th>Ship-service-level</th>\n",
       "      <th>Category</th>\n",
       "      <th>Size</th>\n",
       "      <th>Courier Status</th>\n",
       "      <th>Qty</th>\n",
       "      <th>Currency</th>\n",
       "      <th>Amount</th>\n",
       "      <th>Ship-city</th>\n",
       "      <th>Ship-state</th>\n",
       "      <th>Ship-postal-code</th>\n",
       "      <th>Ship-country</th>\n",
       "      <th>B2B</th>\n",
       "      <th>Fulfilled-by</th>\n",
       "    </tr>\n",
       "  </thead>\n",
       "  <tbody>\n",
       "    <tr>\n",
       "      <th>0</th>\n",
       "      <td>0</td>\n",
       "      <td>405-8078784-5731545</td>\n",
       "      <td>04-30-22</td>\n",
       "      <td>Cancelled</td>\n",
       "      <td>Merchant</td>\n",
       "      <td>Amazon.in</td>\n",
       "      <td>Standard</td>\n",
       "      <td>T-shirt</td>\n",
       "      <td>S</td>\n",
       "      <td>On the Way</td>\n",
       "      <td>0</td>\n",
       "      <td>INR</td>\n",
       "      <td>647.62</td>\n",
       "      <td>MUMBAI</td>\n",
       "      <td>MAHARASHTRA</td>\n",
       "      <td>400081.0</td>\n",
       "      <td>IN</td>\n",
       "      <td>False</td>\n",
       "      <td>Easy Ship</td>\n",
       "    </tr>\n",
       "  </tbody>\n",
       "</table>\n",
       "</div>"
      ],
      "text/plain": [
       "   index             Order ID      Date     Status Fulfilment Sales Channel  \\\n",
       "0      0  405-8078784-5731545  04-30-22  Cancelled   Merchant     Amazon.in   \n",
       "\n",
       "  Ship-service-level Category Size Courier Status  Qty Currency  Amount  \\\n",
       "0           Standard  T-shirt    S     On the Way    0      INR  647.62   \n",
       "\n",
       "  Ship-city   Ship-state  Ship-postal-code Ship-country    B2B Fulfilled-by  \n",
       "0    MUMBAI  MAHARASHTRA          400081.0           IN  False    Easy Ship  "
      ]
     },
     "execution_count": 13,
     "metadata": {},
     "output_type": "execute_result"
    }
   ],
   "source": [
    "df.head(1)"
   ]
  },
  {
   "cell_type": "code",
   "execution_count": 14,
   "id": "051e1d02-02ad-40da-b42e-44dbf85707ea",
   "metadata": {},
   "outputs": [],
   "source": [
    "df.dropna(inplace = True)"
   ]
  },
  {
   "cell_type": "code",
   "execution_count": 15,
   "id": "a9fc5960-f23e-48e9-ae00-bf1e3f7b7933",
   "metadata": {},
   "outputs": [
    {
     "data": {
      "text/plain": [
       "index                 0\n",
       "Order ID              0\n",
       "Date                  0\n",
       "Status                0\n",
       "Fulfilment            0\n",
       "Sales Channel         0\n",
       "Ship-service-level    0\n",
       "Category              0\n",
       "Size                  0\n",
       "Courier Status        0\n",
       "Qty                   0\n",
       "Currency              0\n",
       "Amount                0\n",
       "Ship-city             0\n",
       "Ship-state            0\n",
       "Ship-postal-code      0\n",
       "Ship-country          0\n",
       "B2B                   0\n",
       "Fulfilled-by          0\n",
       "dtype: int64"
      ]
     },
     "execution_count": 15,
     "metadata": {},
     "output_type": "execute_result"
    }
   ],
   "source": [
    "df.isnull().sum()"
   ]
  },
  {
   "cell_type": "code",
   "execution_count": 16,
   "id": "7d49d589-9e25-4e3d-aede-10ecb5331bec",
   "metadata": {},
   "outputs": [],
   "source": [
    "df['Ship-postal-code'] = df['Ship-postal-code'].astype('int')"
   ]
  },
  {
   "cell_type": "code",
   "execution_count": 17,
   "id": "1b6ea78b-b434-4957-96d5-5d09d786c7b0",
   "metadata": {},
   "outputs": [
    {
     "data": {
      "text/plain": [
       "dtype('int32')"
      ]
     },
     "execution_count": 17,
     "metadata": {},
     "output_type": "execute_result"
    }
   ],
   "source": [
    "df['Ship-postal-code'].dtype"
   ]
  },
  {
   "cell_type": "code",
   "execution_count": 18,
   "id": "088cd963-fec9-479a-83a6-8dfa9bac60d2",
   "metadata": {},
   "outputs": [
    {
     "name": "stderr",
     "output_type": "stream",
     "text": [
      "C:\\Users\\FOLARIN\\AppData\\Local\\Temp\\ipykernel_8700\\760521879.py:2: UserWarning: Could not infer format, so each element will be parsed individually, falling back to `dateutil`. To ensure parsing is consistent and as-expected, please specify a format.\n",
      "  df['Date'] = pd.to_datetime (df['Date'])\n"
     ]
    }
   ],
   "source": [
    "#df['Date'] = pd.to_datetime (df['Date'])\n",
    "df['Date'] = pd.to_datetime (df['Date'])"
   ]
  },
  {
   "cell_type": "code",
   "execution_count": 19,
   "id": "ef3c31b4-0e66-4e29-987f-a1f39c87ae78",
   "metadata": {},
   "outputs": [
    {
     "data": {
      "text/html": [
       "<div>\n",
       "<style scoped>\n",
       "    .dataframe tbody tr th:only-of-type {\n",
       "        vertical-align: middle;\n",
       "    }\n",
       "\n",
       "    .dataframe tbody tr th {\n",
       "        vertical-align: top;\n",
       "    }\n",
       "\n",
       "    .dataframe thead th {\n",
       "        text-align: right;\n",
       "    }\n",
       "</style>\n",
       "<table border=\"1\" class=\"dataframe\">\n",
       "  <thead>\n",
       "    <tr style=\"text-align: right;\">\n",
       "      <th></th>\n",
       "      <th>Qty</th>\n",
       "      <th>Amount</th>\n",
       "    </tr>\n",
       "  </thead>\n",
       "  <tbody>\n",
       "    <tr>\n",
       "      <th>count</th>\n",
       "      <td>37514.000000</td>\n",
       "      <td>37514.000000</td>\n",
       "    </tr>\n",
       "    <tr>\n",
       "      <th>mean</th>\n",
       "      <td>0.867383</td>\n",
       "      <td>646.553960</td>\n",
       "    </tr>\n",
       "    <tr>\n",
       "      <th>std</th>\n",
       "      <td>0.354160</td>\n",
       "      <td>279.952414</td>\n",
       "    </tr>\n",
       "    <tr>\n",
       "      <th>min</th>\n",
       "      <td>0.000000</td>\n",
       "      <td>0.000000</td>\n",
       "    </tr>\n",
       "    <tr>\n",
       "      <th>25%</th>\n",
       "      <td>1.000000</td>\n",
       "      <td>458.000000</td>\n",
       "    </tr>\n",
       "    <tr>\n",
       "      <th>50%</th>\n",
       "      <td>1.000000</td>\n",
       "      <td>629.000000</td>\n",
       "    </tr>\n",
       "    <tr>\n",
       "      <th>75%</th>\n",
       "      <td>1.000000</td>\n",
       "      <td>771.000000</td>\n",
       "    </tr>\n",
       "    <tr>\n",
       "      <th>max</th>\n",
       "      <td>5.000000</td>\n",
       "      <td>5495.000000</td>\n",
       "    </tr>\n",
       "  </tbody>\n",
       "</table>\n",
       "</div>"
      ],
      "text/plain": [
       "                Qty        Amount\n",
       "count  37514.000000  37514.000000\n",
       "mean       0.867383    646.553960\n",
       "std        0.354160    279.952414\n",
       "min        0.000000      0.000000\n",
       "25%        1.000000    458.000000\n",
       "50%        1.000000    629.000000\n",
       "75%        1.000000    771.000000\n",
       "max        5.000000   5495.000000"
      ]
     },
     "execution_count": 19,
     "metadata": {},
     "output_type": "execute_result"
    }
   ],
   "source": [
    "df[['Qty', 'Amount']].describe()"
   ]
  },
  {
   "cell_type": "code",
   "execution_count": 20,
   "id": "ed2d770b-7119-4bdd-ad64-4d4556f4f7e4",
   "metadata": {},
   "outputs": [
    {
     "data": {
      "text/plain": [
       "Index(['index', 'Order ID', 'Date', 'Status', 'Fulfilment', 'Sales Channel',\n",
       "       'Ship-service-level', 'Category', 'Size', 'Courier Status', 'Qty',\n",
       "       'Currency', 'Amount', 'Ship-city', 'Ship-state', 'Ship-postal-code',\n",
       "       'Ship-country', 'B2B', 'Fulfilled-by'],\n",
       "      dtype='object')"
      ]
     },
     "execution_count": 20,
     "metadata": {},
     "output_type": "execute_result"
    }
   ],
   "source": [
    "df.columns"
   ]
  },
  {
   "cell_type": "markdown",
   "id": "5b519783-e766-4e21-92bc-3cae78c5ed9a",
   "metadata": {},
   "source": [
    "## Best Sold Cloth Sizes"
   ]
  },
  {
   "cell_type": "code",
   "execution_count": 21,
   "id": "758560c5-30cf-438c-823c-db762fcd6343",
   "metadata": {},
   "outputs": [
    {
     "data": {
      "text/html": [
       "<div>\n",
       "<style scoped>\n",
       "    .dataframe tbody tr th:only-of-type {\n",
       "        vertical-align: middle;\n",
       "    }\n",
       "\n",
       "    .dataframe tbody tr th {\n",
       "        vertical-align: top;\n",
       "    }\n",
       "\n",
       "    .dataframe thead th {\n",
       "        text-align: right;\n",
       "    }\n",
       "</style>\n",
       "<table border=\"1\" class=\"dataframe\">\n",
       "  <thead>\n",
       "    <tr style=\"text-align: right;\">\n",
       "      <th></th>\n",
       "      <th>Qty</th>\n",
       "    </tr>\n",
       "    <tr>\n",
       "      <th>Size</th>\n",
       "      <th></th>\n",
       "    </tr>\n",
       "  </thead>\n",
       "  <tbody>\n",
       "    <tr>\n",
       "      <th>M</th>\n",
       "      <td>5905</td>\n",
       "    </tr>\n",
       "    <tr>\n",
       "      <th>L</th>\n",
       "      <td>5795</td>\n",
       "    </tr>\n",
       "    <tr>\n",
       "      <th>XL</th>\n",
       "      <td>5481</td>\n",
       "    </tr>\n",
       "    <tr>\n",
       "      <th>XXL</th>\n",
       "      <td>4465</td>\n",
       "    </tr>\n",
       "    <tr>\n",
       "      <th>3XL</th>\n",
       "      <td>3972</td>\n",
       "    </tr>\n",
       "    <tr>\n",
       "      <th>S</th>\n",
       "      <td>3896</td>\n",
       "    </tr>\n",
       "    <tr>\n",
       "      <th>XS</th>\n",
       "      <td>2191</td>\n",
       "    </tr>\n",
       "    <tr>\n",
       "      <th>Free</th>\n",
       "      <td>467</td>\n",
       "    </tr>\n",
       "    <tr>\n",
       "      <th>6XL</th>\n",
       "      <td>170</td>\n",
       "    </tr>\n",
       "    <tr>\n",
       "      <th>5XL</th>\n",
       "      <td>104</td>\n",
       "    </tr>\n",
       "    <tr>\n",
       "      <th>4XL</th>\n",
       "      <td>93</td>\n",
       "    </tr>\n",
       "  </tbody>\n",
       "</table>\n",
       "</div>"
      ],
      "text/plain": [
       "       Qty\n",
       "Size      \n",
       "M     5905\n",
       "L     5795\n",
       "XL    5481\n",
       "XXL   4465\n",
       "3XL   3972\n",
       "S     3896\n",
       "XS    2191\n",
       "Free   467\n",
       "6XL    170\n",
       "5XL    104\n",
       "4XL     93"
      ]
     },
     "execution_count": 21,
     "metadata": {},
     "output_type": "execute_result"
    }
   ],
   "source": [
    "Cloth_Sizes = pd.DataFrame(df.groupby('Size')['Qty'].sum().sort_values(ascending = False))\n",
    "Cloth_Sizes"
   ]
  },
  {
   "cell_type": "code",
   "execution_count": 39,
   "id": "9648a602-1ecf-4975-a664-511e0e8378da",
   "metadata": {},
   "outputs": [
    {
     "data": {
      "text/plain": [
       "<Figure size 400x400 with 0 Axes>"
      ]
     },
     "metadata": {},
     "output_type": "display_data"
    },
    {
     "data": {
      "image/png": "[encoded data removed]",
      "text/plain": [
       "<Figure size 640x480 with 1 Axes>"
      ]
     },
     "metadata": {},
     "output_type": "display_data"
    }
   ],
   "source": [
    "plt.figure(figsize = (4,4))\n",
    "Cloth_Sizes.plot(kind = 'bar', color = ['green', 'blue', 'black', 'yellow', 'orange', 'gold', 'magenta', 'cyan'])\n",
    "plt.title('Different Sizes of Dresses')\n",
    "plt.ylabel('Count of Different Sizes of Dresses')\n",
    "plt.xlabel('Cloth Sizes', fontsize = 10)\n",
    "plt.xticks(rotation = 'horizontal')\n",
    "plt.show()"
   ]
  },
  {
   "cell_type": "markdown",
   "id": "d1eaaf08-0cea-4392-8541-ce5adc278c85",
   "metadata": {},
   "source": [
    "#### It can be discovered from the above chart, that medium-sized dresses were best sold, followed by Large-Sized ones and then Extra-Large ones before other sizes."
   ]
  },
  {
   "cell_type": "code",
   "execution_count": 23,
   "id": "804ef99e-86b3-45d8-bc0d-b2d33628c9f9",
   "metadata": {},
   "outputs": [
    {
     "data": {
      "text/plain": [
       "Index(['index', 'Order ID', 'Date', 'Status', 'Fulfilment', 'Sales Channel',\n",
       "       'Ship-service-level', 'Category', 'Size', 'Courier Status', 'Qty',\n",
       "       'Currency', 'Amount', 'Ship-city', 'Ship-state', 'Ship-postal-code',\n",
       "       'Ship-country', 'B2B', 'Fulfilled-by'],\n",
       "      dtype='object')"
      ]
     },
     "execution_count": 23,
     "metadata": {},
     "output_type": "execute_result"
    }
   ],
   "source": [
    "df.columns"
   ]
  },
  {
   "cell_type": "markdown",
   "id": "531926dd-33d6-46d7-8a83-7496074febcf",
   "metadata": {},
   "source": [
    "## Best Sold Cloth Categories"
   ]
  },
  {
   "cell_type": "code",
   "execution_count": 24,
   "id": "bbd3560f-f8b4-42ff-94a2-f7bce07dbdb3",
   "metadata": {},
   "outputs": [
    {
     "data": {
      "text/plain": [
       "Category\n",
       "T-shirt     12147\n",
       "Shirt       11715\n",
       "Blazzer      5881\n",
       "Trousers     2169\n",
       "Perfume       255\n",
       "Wallet        187\n",
       "Socks         160\n",
       "Shoes          25\n",
       "Name: Qty, dtype: int64"
      ]
     },
     "execution_count": 24,
     "metadata": {},
     "output_type": "execute_result"
    }
   ],
   "source": [
    "Cloth_Categories = df.groupby('Category')['Qty'].sum().sort_values(ascending = False)\n",
    "Cloth_Categories"
   ]
  },
  {
   "cell_type": "code",
   "execution_count": 25,
   "id": "65e9ef36-7ff3-40d7-aa1c-a1acb6e025de",
   "metadata": {},
   "outputs": [
    {
     "data": {
      "image/png": "[encoded data removed]",
      "text/plain": [
       "<Figure size 640x480 with 1 Axes>"
      ]
     },
     "metadata": {},
     "output_type": "display_data"
    }
   ],
   "source": [
    "Cloth_Categories.plot(kind = 'bar', color = ['green', 'blue', 'black', 'yellow', 'orange', 'gold', 'magenta', 'cyan'])\n",
    "plt.title('Best Sold Clothes Categories')\n",
    "plt.ylabel('Qty Sold')\n",
    "plt.xlabel('Categories Sold')\n",
    "plt.show()"
   ]
  },
  {
   "cell_type": "markdown",
   "id": "e1263b43-ed20-442b-8d34-a503f14495c5",
   "metadata": {},
   "source": [
    "### T-Shirt was the most ordered for, followed by Shirt, and then Blazzer."
   ]
  },
  {
   "cell_type": "markdown",
   "id": "263dc71a-0169-40ec-b3a0-f148a89cfef7",
   "metadata": {},
   "source": [
    "## Analysis by Courier Status"
   ]
  },
  {
   "cell_type": "code",
   "execution_count": 26,
   "id": "dc1f14b5-7353-4287-88e3-fe6578f8d646",
   "metadata": {},
   "outputs": [
    {
     "data": {
      "text/html": [
       "<div>\n",
       "<style scoped>\n",
       "    .dataframe tbody tr th:only-of-type {\n",
       "        vertical-align: middle;\n",
       "    }\n",
       "\n",
       "    .dataframe tbody tr th {\n",
       "        vertical-align: top;\n",
       "    }\n",
       "\n",
       "    .dataframe thead th {\n",
       "        text-align: right;\n",
       "    }\n",
       "</style>\n",
       "<table border=\"1\" class=\"dataframe\">\n",
       "  <thead>\n",
       "    <tr style=\"text-align: right;\">\n",
       "      <th></th>\n",
       "      <th>index</th>\n",
       "      <th>Order ID</th>\n",
       "      <th>Date</th>\n",
       "      <th>Status</th>\n",
       "      <th>Fulfilment</th>\n",
       "      <th>Sales Channel</th>\n",
       "      <th>Ship-service-level</th>\n",
       "      <th>Category</th>\n",
       "      <th>Size</th>\n",
       "      <th>Courier Status</th>\n",
       "      <th>Qty</th>\n",
       "      <th>Currency</th>\n",
       "      <th>Amount</th>\n",
       "      <th>Ship-city</th>\n",
       "      <th>Ship-state</th>\n",
       "      <th>Ship-postal-code</th>\n",
       "      <th>Ship-country</th>\n",
       "      <th>B2B</th>\n",
       "      <th>Fulfilled-by</th>\n",
       "    </tr>\n",
       "  </thead>\n",
       "  <tbody>\n",
       "    <tr>\n",
       "      <th>0</th>\n",
       "      <td>0</td>\n",
       "      <td>405-8078784-5731545</td>\n",
       "      <td>2022-04-30</td>\n",
       "      <td>Cancelled</td>\n",
       "      <td>Merchant</td>\n",
       "      <td>Amazon.in</td>\n",
       "      <td>Standard</td>\n",
       "      <td>T-shirt</td>\n",
       "      <td>S</td>\n",
       "      <td>On the Way</td>\n",
       "      <td>0</td>\n",
       "      <td>INR</td>\n",
       "      <td>647.62</td>\n",
       "      <td>MUMBAI</td>\n",
       "      <td>MAHARASHTRA</td>\n",
       "      <td>400081</td>\n",
       "      <td>IN</td>\n",
       "      <td>False</td>\n",
       "      <td>Easy Ship</td>\n",
       "    </tr>\n",
       "  </tbody>\n",
       "</table>\n",
       "</div>"
      ],
      "text/plain": [
       "   index             Order ID       Date     Status Fulfilment Sales Channel  \\\n",
       "0      0  405-8078784-5731545 2022-04-30  Cancelled   Merchant     Amazon.in   \n",
       "\n",
       "  Ship-service-level Category Size Courier Status  Qty Currency  Amount  \\\n",
       "0           Standard  T-shirt    S     On the Way    0      INR  647.62   \n",
       "\n",
       "  Ship-city   Ship-state  Ship-postal-code Ship-country    B2B Fulfilled-by  \n",
       "0    MUMBAI  MAHARASHTRA            400081           IN  False    Easy Ship  "
      ]
     },
     "execution_count": 26,
     "metadata": {},
     "output_type": "execute_result"
    }
   ],
   "source": [
    "df.head(1)"
   ]
  },
  {
   "cell_type": "code",
   "execution_count": 27,
   "id": "7df0e517-d945-495e-8133-fd68c7cdb366",
   "metadata": {},
   "outputs": [
    {
     "data": {
      "text/plain": [
       "Status\n",
       "Shipped - Delivered to Buyer     28865\n",
       "Shipped - Returned to Seller      1968\n",
       "Shipped - Picked Up                977\n",
       "Pending - Waiting for Pick Up      283\n",
       "Pending                            244\n",
       "Shipped - Returning to Seller      150\n",
       "Shipped - Out for Delivery          35\n",
       "Shipped - Rejected by Buyer         11\n",
       "Shipped - Lost in Transit            5\n",
       "Shipped - Damaged                    1\n",
       "Cancelled                            0\n",
       "Name: Qty, dtype: int64"
      ]
     },
     "execution_count": 27,
     "metadata": {},
     "output_type": "execute_result"
    }
   ],
   "source": [
    "Status_Count = df.groupby('Status')['Qty'].sum().sort_values(ascending = False)\n",
    "Status_Count"
   ]
  },
  {
   "cell_type": "code",
   "execution_count": 28,
   "id": "fd10f14b-61ee-408b-b5c7-53dbdf2cae55",
   "metadata": {},
   "outputs": [
    {
     "data": {
      "image/png": "[encoded data removed]",
      "text/plain": [
       "<Figure size 1000x400 with 1 Axes>"
      ]
     },
     "metadata": {},
     "output_type": "display_data"
    }
   ],
   "source": [
    "plt.figure(figsize = (10,4))\n",
    "Status_Count.plot(kind = 'barh', color = ['magenta', 'blue', 'black', 'yellow', 'orange', 'gold', 'magenta', 'cyan'])\n",
    "plt.show()"
   ]
  },
  {
   "cell_type": "markdown",
   "id": "48d1101b-9cc4-454b-a15d-af27803769d6",
   "metadata": {},
   "source": [
    "### As evident from the horizontal bar plot, goods delivered to the customer tops the courier status, followed by goods returned and shipped goods."
   ]
  },
  {
   "cell_type": "code",
   "execution_count": 29,
   "id": "41acbba2-f7f6-44d8-8412-f8df57c9f9f7",
   "metadata": {},
   "outputs": [
    {
     "data": {
      "text/plain": [
       "Index(['index', 'Order ID', 'Date', 'Status', 'Fulfilment', 'Sales Channel',\n",
       "       'Ship-service-level', 'Category', 'Size', 'Courier Status', 'Qty',\n",
       "       'Currency', 'Amount', 'Ship-city', 'Ship-state', 'Ship-postal-code',\n",
       "       'Ship-country', 'B2B', 'Fulfilled-by'],\n",
       "      dtype='object')"
      ]
     },
     "execution_count": 29,
     "metadata": {},
     "output_type": "execute_result"
    }
   ],
   "source": [
    "df.columns"
   ]
  },
  {
   "cell_type": "markdown",
   "id": "c6c3880a-9216-4ae9-be3b-7d824d5d2022",
   "metadata": {},
   "source": [
    "## Analysis of B2B Data"
   ]
  },
  {
   "cell_type": "code",
   "execution_count": 30,
   "id": "43bf84f5-1398-4ebc-9f6a-0199bb260fd0",
   "metadata": {},
   "outputs": [],
   "source": [
    "B2B = df['B2B'].value_counts()"
   ]
  },
  {
   "cell_type": "code",
   "execution_count": 31,
   "id": "3bc5128e-a61f-4ef9-9502-01bda15246b4",
   "metadata": {},
   "outputs": [
    {
     "data": {
      "text/plain": [
       "B2B\n",
       "False    37228\n",
       "True       286\n",
       "Name: count, dtype: int64"
      ]
     },
     "execution_count": 31,
     "metadata": {},
     "output_type": "execute_result"
    }
   ],
   "source": [
    "B2B_Count = df.B2B.value_counts()\n",
    "B2B_Count"
   ]
  },
  {
   "cell_type": "code",
   "execution_count": 32,
   "id": "21e9ddaf-f9ed-4ff8-8060-21333891fd3a",
   "metadata": {},
   "outputs": [
    {
     "data": {
      "image/png": "[encoded data removed]",
      "text/plain": [
       "<Figure size 640x480 with 1 Axes>"
      ]
     },
     "metadata": {},
     "output_type": "display_data"
    }
   ],
   "source": [
    "plt.pie(B2B_Count, labels = B2B_Count, autopct = '%1.2f%%')\n",
    "plt.title('B2B_Count')\n",
    "plt.show()"
   ]
  },
  {
   "cell_type": "markdown",
   "id": "f3885317-5996-4353-8f90-405192bdc73b",
   "metadata": {},
   "source": [
    "### B2B is true for most of the time."
   ]
  },
  {
   "cell_type": "markdown",
   "id": "3f6117e9-f58d-47b1-b688-922300d861e9",
   "metadata": {},
   "source": [
    "## General Distribution According to States"
   ]
  },
  {
   "cell_type": "code",
   "execution_count": 33,
   "id": "469242e6-b297-4153-8477-3f1a6f6b7cc1",
   "metadata": {},
   "outputs": [
    {
     "data": {
      "text/plain": [
       "Index(['index', 'Order ID', 'Date', 'Status', 'Fulfilment', 'Sales Channel',\n",
       "       'Ship-service-level', 'Category', 'Size', 'Courier Status', 'Qty',\n",
       "       'Currency', 'Amount', 'Ship-city', 'Ship-state', 'Ship-postal-code',\n",
       "       'Ship-country', 'B2B', 'Fulfilled-by'],\n",
       "      dtype='object')"
      ]
     },
     "execution_count": 33,
     "metadata": {},
     "output_type": "execute_result"
    }
   ],
   "source": [
    "df.columns"
   ]
  },
  {
   "cell_type": "code",
   "execution_count": 34,
   "id": "998c4758-8bb8-4a7c-b3c6-17cd4a7eadaa",
   "metadata": {},
   "outputs": [
    {
     "data": {
      "text/html": [
       "<div>\n",
       "<style scoped>\n",
       "    .dataframe tbody tr th:only-of-type {\n",
       "        vertical-align: middle;\n",
       "    }\n",
       "\n",
       "    .dataframe tbody tr th {\n",
       "        vertical-align: top;\n",
       "    }\n",
       "\n",
       "    .dataframe thead th {\n",
       "        text-align: right;\n",
       "    }\n",
       "</style>\n",
       "<table border=\"1\" class=\"dataframe\">\n",
       "  <thead>\n",
       "    <tr style=\"text-align: right;\">\n",
       "      <th></th>\n",
       "      <th>count</th>\n",
       "    </tr>\n",
       "    <tr>\n",
       "      <th>Ship-state</th>\n",
       "      <th></th>\n",
       "    </tr>\n",
       "  </thead>\n",
       "  <tbody>\n",
       "    <tr>\n",
       "      <th>MAHARASHTRA</th>\n",
       "      <td>6236</td>\n",
       "    </tr>\n",
       "    <tr>\n",
       "      <th>KARNATAKA</th>\n",
       "      <td>4550</td>\n",
       "    </tr>\n",
       "    <tr>\n",
       "      <th>UTTAR PRADESH</th>\n",
       "      <td>3298</td>\n",
       "    </tr>\n",
       "    <tr>\n",
       "      <th>TAMIL NADU</th>\n",
       "      <td>3167</td>\n",
       "    </tr>\n",
       "    <tr>\n",
       "      <th>TELANGANA</th>\n",
       "      <td>3136</td>\n",
       "    </tr>\n",
       "    <tr>\n",
       "      <th>KERALA</th>\n",
       "      <td>2213</td>\n",
       "    </tr>\n",
       "    <tr>\n",
       "      <th>DELHI</th>\n",
       "      <td>1955</td>\n",
       "    </tr>\n",
       "    <tr>\n",
       "      <th>WEST BENGAL</th>\n",
       "      <td>1653</td>\n",
       "    </tr>\n",
       "    <tr>\n",
       "      <th>ANDHRA PRADESH</th>\n",
       "      <td>1621</td>\n",
       "    </tr>\n",
       "    <tr>\n",
       "      <th>Gujarat</th>\n",
       "      <td>1382</td>\n",
       "    </tr>\n",
       "    <tr>\n",
       "      <th>HARYANA</th>\n",
       "      <td>1226</td>\n",
       "    </tr>\n",
       "    <tr>\n",
       "      <th>RAJASTHAN</th>\n",
       "      <td>870</td>\n",
       "    </tr>\n",
       "    <tr>\n",
       "      <th>MADHYA PRADESH</th>\n",
       "      <td>808</td>\n",
       "    </tr>\n",
       "    <tr>\n",
       "      <th>BIHAR</th>\n",
       "      <td>656</td>\n",
       "    </tr>\n",
       "    <tr>\n",
       "      <th>ODISHA</th>\n",
       "      <td>604</td>\n",
       "    </tr>\n",
       "    <tr>\n",
       "      <th>PUNJAB</th>\n",
       "      <td>588</td>\n",
       "    </tr>\n",
       "    <tr>\n",
       "      <th>ASSAM</th>\n",
       "      <td>540</td>\n",
       "    </tr>\n",
       "    <tr>\n",
       "      <th>UTTARAKHAND</th>\n",
       "      <td>500</td>\n",
       "    </tr>\n",
       "    <tr>\n",
       "      <th>JHARKHAND</th>\n",
       "      <td>468</td>\n",
       "    </tr>\n",
       "    <tr>\n",
       "      <th>GOA</th>\n",
       "      <td>316</td>\n",
       "    </tr>\n",
       "    <tr>\n",
       "      <th>CHHATTISGARH</th>\n",
       "      <td>310</td>\n",
       "    </tr>\n",
       "    <tr>\n",
       "      <th>HIMACHAL PRADESH</th>\n",
       "      <td>277</td>\n",
       "    </tr>\n",
       "    <tr>\n",
       "      <th>JAMMU &amp; KASHMIR</th>\n",
       "      <td>232</td>\n",
       "    </tr>\n",
       "    <tr>\n",
       "      <th>CHANDIGARH</th>\n",
       "      <td>112</td>\n",
       "    </tr>\n",
       "    <tr>\n",
       "      <th>PUDUCHERRY</th>\n",
       "      <td>102</td>\n",
       "    </tr>\n",
       "    <tr>\n",
       "      <th>MANIPUR</th>\n",
       "      <td>101</td>\n",
       "    </tr>\n",
       "    <tr>\n",
       "      <th>ANDAMAN &amp; NICOBAR</th>\n",
       "      <td>91</td>\n",
       "    </tr>\n",
       "    <tr>\n",
       "      <th>NAGALAND</th>\n",
       "      <td>69</td>\n",
       "    </tr>\n",
       "    <tr>\n",
       "      <th>MEGHALAYA</th>\n",
       "      <td>68</td>\n",
       "    </tr>\n",
       "    <tr>\n",
       "      <th>SIKKIM</th>\n",
       "      <td>59</td>\n",
       "    </tr>\n",
       "    <tr>\n",
       "      <th>ARUNACHAL PRADESH</th>\n",
       "      <td>53</td>\n",
       "    </tr>\n",
       "    <tr>\n",
       "      <th>TRIPURA</th>\n",
       "      <td>47</td>\n",
       "    </tr>\n",
       "    <tr>\n",
       "      <th>Delhi</th>\n",
       "      <td>44</td>\n",
       "    </tr>\n",
       "    <tr>\n",
       "      <th>MIZORAM</th>\n",
       "      <td>25</td>\n",
       "    </tr>\n",
       "    <tr>\n",
       "      <th>DADRA AND NAGAR</th>\n",
       "      <td>21</td>\n",
       "    </tr>\n",
       "    <tr>\n",
       "      <th>New Delhi</th>\n",
       "      <td>18</td>\n",
       "    </tr>\n",
       "    <tr>\n",
       "      <th>Rajasthan</th>\n",
       "      <td>17</td>\n",
       "    </tr>\n",
       "    <tr>\n",
       "      <th>Punjab</th>\n",
       "      <td>12</td>\n",
       "    </tr>\n",
       "    <tr>\n",
       "      <th>LADAKH</th>\n",
       "      <td>10</td>\n",
       "    </tr>\n",
       "    <tr>\n",
       "      <th>Goa</th>\n",
       "      <td>9</td>\n",
       "    </tr>\n",
       "    <tr>\n",
       "      <th>Bihar</th>\n",
       "      <td>7</td>\n",
       "    </tr>\n",
       "    <tr>\n",
       "      <th>punjab</th>\n",
       "      <td>6</td>\n",
       "    </tr>\n",
       "    <tr>\n",
       "      <th>Odisha</th>\n",
       "      <td>6</td>\n",
       "    </tr>\n",
       "    <tr>\n",
       "      <th>delhi</th>\n",
       "      <td>6</td>\n",
       "    </tr>\n",
       "    <tr>\n",
       "      <th>Chandigarh</th>\n",
       "      <td>4</td>\n",
       "    </tr>\n",
       "    <tr>\n",
       "      <th>LAKSHADWEEP</th>\n",
       "      <td>3</td>\n",
       "    </tr>\n",
       "    <tr>\n",
       "      <th>rajasthan</th>\n",
       "      <td>3</td>\n",
       "    </tr>\n",
       "    <tr>\n",
       "      <th>RJ</th>\n",
       "      <td>2</td>\n",
       "    </tr>\n",
       "    <tr>\n",
       "      <th>Manipur</th>\n",
       "      <td>2</td>\n",
       "    </tr>\n",
       "    <tr>\n",
       "      <th>Arunachal Pradesh</th>\n",
       "      <td>2</td>\n",
       "    </tr>\n",
       "    <tr>\n",
       "      <th>Meghalaya</th>\n",
       "      <td>2</td>\n",
       "    </tr>\n",
       "    <tr>\n",
       "      <th>orissa</th>\n",
       "      <td>1</td>\n",
       "    </tr>\n",
       "    <tr>\n",
       "      <th>Punjab/Mohali/Zirakpur</th>\n",
       "      <td>1</td>\n",
       "    </tr>\n",
       "    <tr>\n",
       "      <th>Sikkim</th>\n",
       "      <td>1</td>\n",
       "    </tr>\n",
       "    <tr>\n",
       "      <th>bihar</th>\n",
       "      <td>1</td>\n",
       "    </tr>\n",
       "    <tr>\n",
       "      <th>Arunachal pradesh</th>\n",
       "      <td>1</td>\n",
       "    </tr>\n",
       "    <tr>\n",
       "      <th>Mizoram</th>\n",
       "      <td>1</td>\n",
       "    </tr>\n",
       "    <tr>\n",
       "      <th>Orissa</th>\n",
       "      <td>1</td>\n",
       "    </tr>\n",
       "  </tbody>\n",
       "</table>\n",
       "</div>"
      ],
      "text/plain": [
       "                        count\n",
       "Ship-state                   \n",
       "MAHARASHTRA              6236\n",
       "KARNATAKA                4550\n",
       "UTTAR PRADESH            3298\n",
       "TAMIL NADU               3167\n",
       "TELANGANA                3136\n",
       "KERALA                   2213\n",
       "DELHI                    1955\n",
       "WEST BENGAL              1653\n",
       "ANDHRA PRADESH           1621\n",
       "Gujarat                  1382\n",
       "HARYANA                  1226\n",
       "RAJASTHAN                 870\n",
       "MADHYA PRADESH            808\n",
       "BIHAR                     656\n",
       "ODISHA                    604\n",
       "PUNJAB                    588\n",
       "ASSAM                     540\n",
       "UTTARAKHAND               500\n",
       "JHARKHAND                 468\n",
       "GOA                       316\n",
       "CHHATTISGARH              310\n",
       "HIMACHAL PRADESH          277\n",
       "JAMMU & KASHMIR           232\n",
       "CHANDIGARH                112\n",
       "PUDUCHERRY                102\n",
       "MANIPUR                   101\n",
       "ANDAMAN & NICOBAR          91\n",
       "NAGALAND                   69\n",
       "MEGHALAYA                  68\n",
       "SIKKIM                     59\n",
       "ARUNACHAL PRADESH          53\n",
       "TRIPURA                    47\n",
       "Delhi                      44\n",
       "MIZORAM                    25\n",
       "DADRA AND NAGAR            21\n",
       "New Delhi                  18\n",
       "Rajasthan                  17\n",
       "Punjab                     12\n",
       "LADAKH                     10\n",
       "Goa                         9\n",
       "Bihar                       7\n",
       "punjab                      6\n",
       "Odisha                      6\n",
       "delhi                       6\n",
       "Chandigarh                  4\n",
       "LAKSHADWEEP                 3\n",
       "rajasthan                   3\n",
       "RJ                          2\n",
       "Manipur                     2\n",
       "Arunachal Pradesh           2\n",
       "Meghalaya                   2\n",
       "orissa                      1\n",
       "Punjab/Mohali/Zirakpur      1\n",
       "Sikkim                      1\n",
       "bihar                       1\n",
       "Arunachal pradesh           1\n",
       "Mizoram                     1\n",
       "Orissa                      1"
      ]
     },
     "execution_count": 34,
     "metadata": {},
     "output_type": "execute_result"
    }
   ],
   "source": [
    "State_Distribution = pd.DataFrame(df['Ship-state'].value_counts())\n",
    "State_Distribution"
   ]
  },
  {
   "cell_type": "code",
   "execution_count": 35,
   "id": "ae5c50b0-8185-4474-8b3e-8b4e152c36ed",
   "metadata": {},
   "outputs": [
    {
     "data": {
      "text/plain": [
       "Ship-state\n",
       "MAHARASHTRA               6236\n",
       "KARNATAKA                 4550\n",
       "UTTAR PRADESH             3298\n",
       "TAMIL NADU                3167\n",
       "TELANGANA                 3136\n",
       "KERALA                    2213\n",
       "DELHI                     1955\n",
       "WEST BENGAL               1653\n",
       "ANDHRA PRADESH            1621\n",
       "Gujarat                   1382\n",
       "HARYANA                   1226\n",
       "RAJASTHAN                  870\n",
       "MADHYA PRADESH             808\n",
       "BIHAR                      656\n",
       "ODISHA                     604\n",
       "PUNJAB                     588\n",
       "ASSAM                      540\n",
       "UTTARAKHAND                500\n",
       "JHARKHAND                  468\n",
       "GOA                        316\n",
       "CHHATTISGARH               310\n",
       "HIMACHAL PRADESH           277\n",
       "JAMMU & KASHMIR            232\n",
       "CHANDIGARH                 112\n",
       "PUDUCHERRY                 102\n",
       "MANIPUR                    101\n",
       "ANDAMAN & NICOBAR           91\n",
       "NAGALAND                    69\n",
       "MEGHALAYA                   68\n",
       "SIKKIM                      59\n",
       "ARUNACHAL PRADESH           53\n",
       "TRIPURA                     47\n",
       "Delhi                       44\n",
       "MIZORAM                     25\n",
       "DADRA AND NAGAR             21\n",
       "New Delhi                   18\n",
       "Rajasthan                   17\n",
       "Punjab                      12\n",
       "LADAKH                      10\n",
       "Goa                          9\n",
       "Bihar                        7\n",
       "punjab                       6\n",
       "Odisha                       6\n",
       "delhi                        6\n",
       "Chandigarh                   4\n",
       "LAKSHADWEEP                  3\n",
       "rajasthan                    3\n",
       "RJ                           2\n",
       "Manipur                      2\n",
       "Arunachal Pradesh            2\n",
       "Meghalaya                    2\n",
       "orissa                       1\n",
       "Punjab/Mohali/Zirakpur       1\n",
       "Sikkim                       1\n",
       "bihar                        1\n",
       "Arunachal pradesh            1\n",
       "Mizoram                      1\n",
       "Orissa                       1\n",
       "Name: count, dtype: int64"
      ]
     },
     "execution_count": 35,
     "metadata": {},
     "output_type": "execute_result"
    }
   ],
   "source": [
    "State_Distribution1 = df['Ship-state'].value_counts()\n",
    "State_Distribution1"
   ]
  },
  {
   "cell_type": "code",
   "execution_count": 36,
   "id": "83b4928c-b416-4c26-bdeb-52057fbf7b07",
   "metadata": {},
   "outputs": [
    {
     "data": {
      "image/png": "[encoded data removed]",
      "text/plain": [
       "<Figure size 600x1200 with 1 Axes>"
      ]
     },
     "metadata": {},
     "output_type": "display_data"
    }
   ],
   "source": [
    "plt.figure(figsize = (6 ,12))\n",
    "State_Distribution1.plot(kind = 'barh', fontsize = 7, color = ['magenta', 'blue', 'black', 'yellow', 'orange', 'gold', 'magenta', 'cyan'])\n",
    "plt.xlabel('Ship-state')\n",
    "plt.ylabel('Count')\n",
    "plt.title('Distribution of States')\n",
    "plt.show()"
   ]
  },
  {
   "cell_type": "markdown",
   "id": "7bc78ce4-495f-44bd-9369-c31ef6f4d606",
   "metadata": {},
   "source": [
    "### Maharashtra has the highest patronage, followed by Karnataka and then Uttah Pradesh."
   ]
  },
  {
   "cell_type": "markdown",
   "id": "331b0738-6004-42a3-8557-99e2f90fa16f",
   "metadata": {},
   "source": [
    "## SUMMARY\n",
    "##### It can be discovered from the above chart, that medium-sized dresses were best sold, followed by Large-Sized ones and then Extra-Large ones before other sizes.\n",
    "##### T-Shirt was the most ordered for, followed by Shirt, and then Blazzer.\n",
    "##### As evident from the horizontal bar plot, goods delivered to the customer tops the courier status, followed by goods returned and shipped goods.\n",
    "##### B2B is true for most of the time.\n",
    "##### Maharashtra has the highest patronage, followed by Karnataka and then Uttah Pradesh."
   ]
  },
  {
   "cell_type": "markdown",
   "id": "36b06a00-3d7b-4a38-9819-eee058da0686",
   "metadata": {},
   "source": [
    "## RECOMMENDATIONS\n",
    "##### Medium-sized dresses should be produced enmass. \n",
    "##### More of T-Shirts, Shirts and Blazzer should be produced.\n",
    "##### Advertisement should be target towards Maharashtra, Karnataka and Uttah Pradesh."
   ]
  },
  {
   "cell_type": "code",
   "execution_count": null,
   "id": "71e997f9-acd2-4c57-a76f-0af2dc7612fe",
   "metadata": {},
   "outputs": [],
   "source": []
  }
 ],
 "metadata": {
  "kernelspec": {
   "display_name": "Python 3 (ipykernel)",
   "language": "python",
   "name": "python3"
  },
  "language_info": {
   "codemirror_mode": {
    "name": "ipython",
    "version": 3
   },
   "file_extension": ".py",
   "mimetype": "text/x-python",
   "name": "python",
   "nbconvert_exporter": "python",
   "pygments_lexer": "ipython3",
   "version": "3.12.0"
  }
 },
 "nbformat": 4,
 "nbformat_minor": 5
}
